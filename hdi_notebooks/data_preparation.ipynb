{
 "cells": [
  {
   "cell_type": "code",
   "execution_count": 80,
   "metadata": {
    "collapsed": false
   },
   "outputs": [],
   "source": [
    "%matplotlib inline\n",
    "\n",
    "import pandas as pd\n",
    "import matplotlib.pyplot as plt"
   ]
  },
  {
   "cell_type": "markdown",
   "metadata": {},
   "source": [
    "# Data preparation"
   ]
  },
  {
   "cell_type": "code",
   "execution_count": 81,
   "metadata": {
    "collapsed": false
   },
   "outputs": [],
   "source": [
    "very_high_hdi_df = pd.read_csv(\"./files/very_high_human_development.csv\", sep=';')\n",
    "high_hdi_df      = pd.read_csv(\"./files/high_human_development.csv\", sep=';')\n",
    "medium_hdi_df    = pd.read_csv(\"./files/medium_human_development.csv\", sep=';')\n",
    "low_hdi_df       = pd.read_csv(\"./files/low_human_development.csv\", sep=';')"
   ]
  },
  {
   "cell_type": "markdown",
   "metadata": {},
   "source": [
    "**mark**\n",
    "- VH - very_high\n",
    "- H - high\n",
    "- M - medium\n",
    "- L - low"
   ]
  },
  {
   "cell_type": "code",
   "execution_count": 82,
   "metadata": {
    "collapsed": false
   },
   "outputs": [],
   "source": [
    "very_high_hdi_df['mark'] = pd.Series(\"VH\", index=very_high_hdi_df.index)\n",
    "high_hdi_df['mark'] = pd.Series(\"H\", index=high_hdi_df.index)\n",
    "medium_hdi_df['mark'] = pd.Series(\"M\", index=medium_hdi_df.index)\n",
    "low_hdi_df['mark'] = pd.Series(\"L\", index=low_hdi_df.index)"
   ]
  },
  {
   "cell_type": "markdown",
   "metadata": {},
   "source": [
    "- hdi_rank = HDI rank\n",
    "- country = Country\n",
    "- hdi = Human Development Index (HDI)\n",
    "- life_expectancy_at_birth = Life expectancy at birth\n",
    "- expected_years_of_schooling = Expected years of schooling\n",
    "- mean_years_of_schooling= Mean years of schooling\n",
    "- gni = Gross national income (GNI) per capita (2011 PPP $)\n",
    "- gni_rank_minus_hdi_rank = GNI per capita rank minus HDI rank"
   ]
  },
  {
   "cell_type": "code",
   "execution_count": 83,
   "metadata": {
    "collapsed": false
   },
   "outputs": [
    {
     "data": {
      "text/html": [
       "<div>\n",
       "<table border=\"1\" class=\"dataframe\">\n",
       "  <thead>\n",
       "    <tr style=\"text-align: right;\">\n",
       "      <th></th>\n",
       "      <th>HDI rank</th>\n",
       "      <th>Country</th>\n",
       "      <th>Human Development Index (HDI)</th>\n",
       "      <th>Life expectancy at birth</th>\n",
       "      <th>Expected years of schooling</th>\n",
       "      <th>Mean years of schooling</th>\n",
       "      <th>Gross national income (GNI) per capita (2011 PPP $)</th>\n",
       "      <th>GNI per capita rank minus HDI rank</th>\n",
       "      <th>mark</th>\n",
       "    </tr>\n",
       "  </thead>\n",
       "  <tbody>\n",
       "    <tr>\n",
       "      <th>0</th>\n",
       "      <td>1</td>\n",
       "      <td>Norway</td>\n",
       "      <td>0,944</td>\n",
       "      <td>81,6</td>\n",
       "      <td>17,5</td>\n",
       "      <td>12,6</td>\n",
       "      <td>64992</td>\n",
       "      <td>5</td>\n",
       "      <td>VH</td>\n",
       "    </tr>\n",
       "    <tr>\n",
       "      <th>1</th>\n",
       "      <td>2</td>\n",
       "      <td>Australia</td>\n",
       "      <td>0,935</td>\n",
       "      <td>82,4</td>\n",
       "      <td>20,2</td>\n",
       "      <td>13,0</td>\n",
       "      <td>42261</td>\n",
       "      <td>17</td>\n",
       "      <td>VH</td>\n",
       "    </tr>\n",
       "    <tr>\n",
       "      <th>2</th>\n",
       "      <td>3</td>\n",
       "      <td>Switzerland</td>\n",
       "      <td>0,930</td>\n",
       "      <td>83,0</td>\n",
       "      <td>15,8</td>\n",
       "      <td>12,8</td>\n",
       "      <td>56431</td>\n",
       "      <td>6</td>\n",
       "      <td>VH</td>\n",
       "    </tr>\n",
       "    <tr>\n",
       "      <th>3</th>\n",
       "      <td>4</td>\n",
       "      <td>Denmark</td>\n",
       "      <td>0,923</td>\n",
       "      <td>80,2</td>\n",
       "      <td>18,7</td>\n",
       "      <td>12,7</td>\n",
       "      <td>44025</td>\n",
       "      <td>11</td>\n",
       "      <td>VH</td>\n",
       "    </tr>\n",
       "    <tr>\n",
       "      <th>4</th>\n",
       "      <td>5</td>\n",
       "      <td>Netherlands</td>\n",
       "      <td>0,922</td>\n",
       "      <td>81,6</td>\n",
       "      <td>17,9</td>\n",
       "      <td>11,9</td>\n",
       "      <td>45435</td>\n",
       "      <td>9</td>\n",
       "      <td>VH</td>\n",
       "    </tr>\n",
       "  </tbody>\n",
       "</table>\n",
       "</div>"
      ],
      "text/plain": [
       "   HDI rank      Country Human Development Index (HDI)   \\\n",
       "0         1       Norway                          0,944   \n",
       "1         2    Australia                          0,935   \n",
       "2         3  Switzerland                          0,930   \n",
       "3         4      Denmark                          0,923   \n",
       "4         5  Netherlands                          0,922   \n",
       "\n",
       "  Life expectancy at birth Expected years of schooling   \\\n",
       "0                     81,6                         17,5   \n",
       "1                     82,4                         20,2   \n",
       "2                     83,0                         15,8   \n",
       "3                     80,2                         18,7   \n",
       "4                     81,6                         17,9   \n",
       "\n",
       "  Mean years of schooling  \\\n",
       "0                    12,6   \n",
       "1                    13,0   \n",
       "2                    12,8   \n",
       "3                    12,7   \n",
       "4                    11,9   \n",
       "\n",
       "   Gross national income (GNI) per capita (2011 PPP $)  \\\n",
       "0                                              64992     \n",
       "1                                              42261     \n",
       "2                                              56431     \n",
       "3                                              44025     \n",
       "4                                              45435     \n",
       "\n",
       "   GNI per capita rank minus HDI rank mark  \n",
       "0                                   5   VH  \n",
       "1                                  17   VH  \n",
       "2                                   6   VH  \n",
       "3                                  11   VH  \n",
       "4                                   9   VH  "
      ]
     },
     "execution_count": 83,
     "metadata": {},
     "output_type": "execute_result"
    }
   ],
   "source": [
    "very_high_hdi_df.head()"
   ]
  },
  {
   "cell_type": "code",
   "execution_count": 84,
   "metadata": {
    "collapsed": false
   },
   "outputs": [],
   "source": [
    "raw_hdi_df = pd.concat([very_high_hdi_df, high_hdi_df, medium_hdi_df, low_hdi_df])\n",
    "raw_hdi_df.columns = [\"hdi_rank\", \"country\", \"hdi\",\n",
    "                      \"life_expectancy_at_birth\",\n",
    "                      \"expected_years_of_schooling\",\n",
    "                      \"mean_years_of_schooling\", \"gni\",\n",
    "                      \"gni_rank_minus_hdi_rank\", \"mark\"]"
   ]
  },
  {
   "cell_type": "code",
   "execution_count": 85,
   "metadata": {
    "collapsed": false,
    "scrolled": true
   },
   "outputs": [
    {
     "data": {
      "text/html": [
       "<div>\n",
       "<table border=\"1\" class=\"dataframe\">\n",
       "  <thead>\n",
       "    <tr style=\"text-align: right;\">\n",
       "      <th></th>\n",
       "      <th>hdi_rank</th>\n",
       "      <th>country</th>\n",
       "      <th>hdi</th>\n",
       "      <th>life_expectancy_at_birth</th>\n",
       "      <th>expected_years_of_schooling</th>\n",
       "      <th>mean_years_of_schooling</th>\n",
       "      <th>gni</th>\n",
       "      <th>gni_rank_minus_hdi_rank</th>\n",
       "      <th>mark</th>\n",
       "    </tr>\n",
       "  </thead>\n",
       "  <tbody>\n",
       "    <tr>\n",
       "      <th>0</th>\n",
       "      <td>1</td>\n",
       "      <td>Norway</td>\n",
       "      <td>0,944</td>\n",
       "      <td>81,6</td>\n",
       "      <td>17,5</td>\n",
       "      <td>12,6</td>\n",
       "      <td>64992</td>\n",
       "      <td>5</td>\n",
       "      <td>VH</td>\n",
       "    </tr>\n",
       "    <tr>\n",
       "      <th>1</th>\n",
       "      <td>2</td>\n",
       "      <td>Australia</td>\n",
       "      <td>0,935</td>\n",
       "      <td>82,4</td>\n",
       "      <td>20,2</td>\n",
       "      <td>13,0</td>\n",
       "      <td>42261</td>\n",
       "      <td>17</td>\n",
       "      <td>VH</td>\n",
       "    </tr>\n",
       "    <tr>\n",
       "      <th>2</th>\n",
       "      <td>3</td>\n",
       "      <td>Switzerland</td>\n",
       "      <td>0,930</td>\n",
       "      <td>83,0</td>\n",
       "      <td>15,8</td>\n",
       "      <td>12,8</td>\n",
       "      <td>56431</td>\n",
       "      <td>6</td>\n",
       "      <td>VH</td>\n",
       "    </tr>\n",
       "    <tr>\n",
       "      <th>3</th>\n",
       "      <td>4</td>\n",
       "      <td>Denmark</td>\n",
       "      <td>0,923</td>\n",
       "      <td>80,2</td>\n",
       "      <td>18,7</td>\n",
       "      <td>12,7</td>\n",
       "      <td>44025</td>\n",
       "      <td>11</td>\n",
       "      <td>VH</td>\n",
       "    </tr>\n",
       "    <tr>\n",
       "      <th>4</th>\n",
       "      <td>5</td>\n",
       "      <td>Netherlands</td>\n",
       "      <td>0,922</td>\n",
       "      <td>81,6</td>\n",
       "      <td>17,9</td>\n",
       "      <td>11,9</td>\n",
       "      <td>45435</td>\n",
       "      <td>9</td>\n",
       "      <td>VH</td>\n",
       "    </tr>\n",
       "  </tbody>\n",
       "</table>\n",
       "</div>"
      ],
      "text/plain": [
       "   hdi_rank      country    hdi life_expectancy_at_birth  \\\n",
       "0         1       Norway  0,944                     81,6   \n",
       "1         2    Australia  0,935                     82,4   \n",
       "2         3  Switzerland  0,930                     83,0   \n",
       "3         4      Denmark  0,923                     80,2   \n",
       "4         5  Netherlands  0,922                     81,6   \n",
       "\n",
       "  expected_years_of_schooling mean_years_of_schooling    gni  \\\n",
       "0                        17,5                    12,6  64992   \n",
       "1                        20,2                    13,0  42261   \n",
       "2                        15,8                    12,8  56431   \n",
       "3                        18,7                    12,7  44025   \n",
       "4                        17,9                    11,9  45435   \n",
       "\n",
       "   gni_rank_minus_hdi_rank mark  \n",
       "0                        5   VH  \n",
       "1                       17   VH  \n",
       "2                        6   VH  \n",
       "3                       11   VH  \n",
       "4                        9   VH  "
      ]
     },
     "execution_count": 85,
     "metadata": {},
     "output_type": "execute_result"
    }
   ],
   "source": [
    "raw_hdi_df.head()"
   ]
  },
  {
   "cell_type": "code",
   "execution_count": 86,
   "metadata": {
    "collapsed": true
   },
   "outputs": [],
   "source": [
    "object_to_float = lambda s: s.str.replace(',','.').astype(float)\n",
    "object_to_int = lambda s: s.astype(int)"
   ]
  },
  {
   "cell_type": "code",
   "execution_count": 87,
   "metadata": {
    "collapsed": true
   },
   "outputs": [],
   "source": [
    "object_to_float_columns = [\"hdi\", \"life_expectancy_at_birth\", \"expected_years_of_schooling\", \"mean_years_of_schooling\"]\n",
    "object_to_int_columns = [\"hdi_rank\", \"gni\", \"gni_rank_minus_hdi_rank\"]"
   ]
  },
  {
   "cell_type": "code",
   "execution_count": 88,
   "metadata": {
    "collapsed": false,
    "scrolled": true
   },
   "outputs": [
    {
     "data": {
      "text/plain": [
       "hdi_rank                         int64\n",
       "country                         object\n",
       "hdi                            float64\n",
       "life_expectancy_at_birth       float64\n",
       "expected_years_of_schooling    float64\n",
       "mean_years_of_schooling        float64\n",
       "gni                              int64\n",
       "gni_rank_minus_hdi_rank          int64\n",
       "mark                            object\n",
       "dtype: object"
      ]
     },
     "execution_count": 88,
     "metadata": {},
     "output_type": "execute_result"
    }
   ],
   "source": [
    "hdi_df = raw_hdi_df.copy()\n",
    "hdi_df[object_to_float_columns] = raw_hdi_df[object_to_float_columns].apply(object_to_float)\n",
    "hdi_df[object_to_int_columns] = raw_hdi_df[object_to_int_columns].apply(object_to_int)\n",
    "\n",
    "hdi_df.dtypes"
   ]
  },
  {
   "cell_type": "code",
   "execution_count": 89,
   "metadata": {
    "collapsed": false
   },
   "outputs": [],
   "source": [
    "hdi_df.index = hdi_df.country\n",
    "hdi_df.drop(\"country\", axis=1, inplace=True)"
   ]
  },
  {
   "cell_type": "code",
   "execution_count": 90,
   "metadata": {
    "collapsed": false
   },
   "outputs": [
    {
     "data": {
      "text/html": [
       "<div>\n",
       "<table border=\"1\" class=\"dataframe\">\n",
       "  <thead>\n",
       "    <tr style=\"text-align: right;\">\n",
       "      <th></th>\n",
       "      <th>hdi_rank</th>\n",
       "      <th>hdi</th>\n",
       "      <th>life_expectancy_at_birth</th>\n",
       "      <th>expected_years_of_schooling</th>\n",
       "      <th>mean_years_of_schooling</th>\n",
       "      <th>gni</th>\n",
       "      <th>gni_rank_minus_hdi_rank</th>\n",
       "      <th>mark</th>\n",
       "    </tr>\n",
       "    <tr>\n",
       "      <th>country</th>\n",
       "      <th></th>\n",
       "      <th></th>\n",
       "      <th></th>\n",
       "      <th></th>\n",
       "      <th></th>\n",
       "      <th></th>\n",
       "      <th></th>\n",
       "      <th></th>\n",
       "    </tr>\n",
       "  </thead>\n",
       "  <tbody>\n",
       "    <tr>\n",
       "      <th>Norway</th>\n",
       "      <td>1</td>\n",
       "      <td>0.944</td>\n",
       "      <td>81.6</td>\n",
       "      <td>17.5</td>\n",
       "      <td>12.6</td>\n",
       "      <td>64992</td>\n",
       "      <td>5</td>\n",
       "      <td>VH</td>\n",
       "    </tr>\n",
       "    <tr>\n",
       "      <th>Australia</th>\n",
       "      <td>2</td>\n",
       "      <td>0.935</td>\n",
       "      <td>82.4</td>\n",
       "      <td>20.2</td>\n",
       "      <td>13.0</td>\n",
       "      <td>42261</td>\n",
       "      <td>17</td>\n",
       "      <td>VH</td>\n",
       "    </tr>\n",
       "    <tr>\n",
       "      <th>Switzerland</th>\n",
       "      <td>3</td>\n",
       "      <td>0.930</td>\n",
       "      <td>83.0</td>\n",
       "      <td>15.8</td>\n",
       "      <td>12.8</td>\n",
       "      <td>56431</td>\n",
       "      <td>6</td>\n",
       "      <td>VH</td>\n",
       "    </tr>\n",
       "    <tr>\n",
       "      <th>Denmark</th>\n",
       "      <td>4</td>\n",
       "      <td>0.923</td>\n",
       "      <td>80.2</td>\n",
       "      <td>18.7</td>\n",
       "      <td>12.7</td>\n",
       "      <td>44025</td>\n",
       "      <td>11</td>\n",
       "      <td>VH</td>\n",
       "    </tr>\n",
       "    <tr>\n",
       "      <th>Netherlands</th>\n",
       "      <td>5</td>\n",
       "      <td>0.922</td>\n",
       "      <td>81.6</td>\n",
       "      <td>17.9</td>\n",
       "      <td>11.9</td>\n",
       "      <td>45435</td>\n",
       "      <td>9</td>\n",
       "      <td>VH</td>\n",
       "    </tr>\n",
       "  </tbody>\n",
       "</table>\n",
       "</div>"
      ],
      "text/plain": [
       "             hdi_rank    hdi  life_expectancy_at_birth  \\\n",
       "country                                                  \n",
       "Norway              1  0.944                      81.6   \n",
       "Australia           2  0.935                      82.4   \n",
       "Switzerland         3  0.930                      83.0   \n",
       "Denmark             4  0.923                      80.2   \n",
       "Netherlands         5  0.922                      81.6   \n",
       "\n",
       "             expected_years_of_schooling  mean_years_of_schooling    gni  \\\n",
       "country                                                                    \n",
       "Norway                              17.5                     12.6  64992   \n",
       "Australia                           20.2                     13.0  42261   \n",
       "Switzerland                         15.8                     12.8  56431   \n",
       "Denmark                             18.7                     12.7  44025   \n",
       "Netherlands                         17.9                     11.9  45435   \n",
       "\n",
       "             gni_rank_minus_hdi_rank mark  \n",
       "country                                    \n",
       "Norway                             5   VH  \n",
       "Australia                         17   VH  \n",
       "Switzerland                        6   VH  \n",
       "Denmark                           11   VH  \n",
       "Netherlands                        9   VH  "
      ]
     },
     "execution_count": 90,
     "metadata": {},
     "output_type": "execute_result"
    }
   ],
   "source": [
    "hdi_df.head()"
   ]
  },
  {
   "cell_type": "code",
   "execution_count": 91,
   "metadata": {
    "collapsed": true
   },
   "outputs": [],
   "source": [
    "hdi_df.to_csv(\"files/hdi_with_components.csv\")"
   ]
  },
  {
   "cell_type": "code",
   "execution_count": 92,
   "metadata": {
    "collapsed": false
   },
   "outputs": [
    {
     "name": "stdout",
     "output_type": "stream",
     "text": [
      "country,hdi_rank,hdi,life_expectancy_at_birth,expected_years_of_schooling,mean_years_of_schooling,gni,gni_rank_minus_hdi_rank,mark\r\n",
      "Norway,1,0.944,81.6,17.5,12.6,64992,5,VH\r\n",
      "Australia,2,0.935,82.4,20.2,13.0,42261,17,VH\r\n",
      "Switzerland,3,0.93,83.0,15.8,12.8,56431,6,VH\r\n",
      "Denmark,4,0.923,80.2,18.7,12.7,44025,11,VH\r\n",
      "Netherlands,5,0.922,81.6,17.9,11.9,45435,9,VH\r\n",
      "Germany,6,0.916,80.9,16.5,13.1,43919,11,VH\r\n",
      "Ireland,6,0.916,80.9,18.6,12.2,39568,16,VH\r\n",
      "United States,8,0.915,79.1,16.5,12.9,52947,3,VH\r\n",
      "Canada,9,0.913,82.0,15.9,13.0,42155,11,VH\r\n"
     ]
    }
   ],
   "source": [
    "!head \"files/hdi_with_components.csv\""
   ]
  },
  {
   "cell_type": "markdown",
   "metadata": {
    "collapsed": true
   },
   "source": [
    "# Add ISO_A3 county code"
   ]
  },
  {
   "cell_type": "code",
   "execution_count": 93,
   "metadata": {
    "collapsed": true
   },
   "outputs": [],
   "source": [
    "gdi = pd.read_csv(\"files/gdi.csv\", index_col=\"Country\")"
   ]
  },
  {
   "cell_type": "code",
   "execution_count": 94,
   "metadata": {
    "collapsed": false
   },
   "outputs": [
    {
     "data": {
      "text/html": [
       "<div>\n",
       "<table border=\"1\" class=\"dataframe\">\n",
       "  <thead>\n",
       "    <tr style=\"text-align: right;\">\n",
       "      <th></th>\n",
       "      <th>CODE</th>\n",
       "      <th>GDI</th>\n",
       "      <th>GDI group</th>\n",
       "      <th>HDI F</th>\n",
       "      <th>HDI M</th>\n",
       "      <th>LEB F</th>\n",
       "      <th>LEB M</th>\n",
       "      <th>EYS F</th>\n",
       "      <th>EYS M</th>\n",
       "      <th>MYS F</th>\n",
       "      <th>MYS M</th>\n",
       "      <th>EGN F</th>\n",
       "      <th>EGN M</th>\n",
       "    </tr>\n",
       "    <tr>\n",
       "      <th>Country</th>\n",
       "      <th></th>\n",
       "      <th></th>\n",
       "      <th></th>\n",
       "      <th></th>\n",
       "      <th></th>\n",
       "      <th></th>\n",
       "      <th></th>\n",
       "      <th></th>\n",
       "      <th></th>\n",
       "      <th></th>\n",
       "      <th></th>\n",
       "      <th></th>\n",
       "      <th></th>\n",
       "    </tr>\n",
       "  </thead>\n",
       "  <tbody>\n",
       "    <tr>\n",
       "      <th>Norway</th>\n",
       "      <td>NOR</td>\n",
       "      <td>0.996300</td>\n",
       "      <td>1</td>\n",
       "      <td>0.940411</td>\n",
       "      <td>0.943903</td>\n",
       "      <td>83.6</td>\n",
       "      <td>79.5</td>\n",
       "      <td>18.19054</td>\n",
       "      <td>16.82410</td>\n",
       "      <td>12.68000</td>\n",
       "      <td>12.54800</td>\n",
       "      <td>57139.785877</td>\n",
       "      <td>72824.953704</td>\n",
       "    </tr>\n",
       "    <tr>\n",
       "      <th>Australia</th>\n",
       "      <td>AUS</td>\n",
       "      <td>0.975716</td>\n",
       "      <td>1</td>\n",
       "      <td>0.922306</td>\n",
       "      <td>0.945261</td>\n",
       "      <td>84.5</td>\n",
       "      <td>80.3</td>\n",
       "      <td>20.72467</td>\n",
       "      <td>19.72474</td>\n",
       "      <td>13.06910</td>\n",
       "      <td>12.85581</td>\n",
       "      <td>33688.072522</td>\n",
       "      <td>50913.744323</td>\n",
       "    </tr>\n",
       "    <tr>\n",
       "      <th>Switzerland</th>\n",
       "      <td>CHE</td>\n",
       "      <td>0.950473</td>\n",
       "      <td>2</td>\n",
       "      <td>0.898293</td>\n",
       "      <td>0.945101</td>\n",
       "      <td>85.0</td>\n",
       "      <td>80.8</td>\n",
       "      <td>15.70207</td>\n",
       "      <td>15.87935</td>\n",
       "      <td>11.50000</td>\n",
       "      <td>13.10000</td>\n",
       "      <td>44131.598189</td>\n",
       "      <td>69076.742105</td>\n",
       "    </tr>\n",
       "    <tr>\n",
       "      <th>Denmark</th>\n",
       "      <td>DNK</td>\n",
       "      <td>0.976778</td>\n",
       "      <td>1</td>\n",
       "      <td>0.911965</td>\n",
       "      <td>0.933645</td>\n",
       "      <td>82.2</td>\n",
       "      <td>78.3</td>\n",
       "      <td>19.32247</td>\n",
       "      <td>18.07368</td>\n",
       "      <td>12.80576</td>\n",
       "      <td>12.65413</td>\n",
       "      <td>36439.439333</td>\n",
       "      <td>51726.638178</td>\n",
       "    </tr>\n",
       "    <tr>\n",
       "      <th>Netherlands</th>\n",
       "      <td>NLD</td>\n",
       "      <td>0.947139</td>\n",
       "      <td>3</td>\n",
       "      <td>0.893001</td>\n",
       "      <td>0.942841</td>\n",
       "      <td>83.3</td>\n",
       "      <td>79.7</td>\n",
       "      <td>17.96617</td>\n",
       "      <td>17.88358</td>\n",
       "      <td>11.61511</td>\n",
       "      <td>12.17535</td>\n",
       "      <td>29500.241616</td>\n",
       "      <td>61641.441877</td>\n",
       "    </tr>\n",
       "  </tbody>\n",
       "</table>\n",
       "</div>"
      ],
      "text/plain": [
       "            CODE       GDI  GDI group     HDI F     HDI M  LEB F  LEB M  \\\n",
       "Country                                                                   \n",
       "Norway       NOR  0.996300          1  0.940411  0.943903   83.6   79.5   \n",
       "Australia    AUS  0.975716          1  0.922306  0.945261   84.5   80.3   \n",
       "Switzerland  CHE  0.950473          2  0.898293  0.945101   85.0   80.8   \n",
       "Denmark      DNK  0.976778          1  0.911965  0.933645   82.2   78.3   \n",
       "Netherlands  NLD  0.947139          3  0.893001  0.942841   83.3   79.7   \n",
       "\n",
       "                EYS F     EYS M     MYS F     MYS M         EGN F  \\\n",
       "Country                                                             \n",
       "Norway       18.19054  16.82410  12.68000  12.54800  57139.785877   \n",
       "Australia    20.72467  19.72474  13.06910  12.85581  33688.072522   \n",
       "Switzerland  15.70207  15.87935  11.50000  13.10000  44131.598189   \n",
       "Denmark      19.32247  18.07368  12.80576  12.65413  36439.439333   \n",
       "Netherlands  17.96617  17.88358  11.61511  12.17535  29500.241616   \n",
       "\n",
       "                    EGN M  \n",
       "Country                    \n",
       "Norway       72824.953704  \n",
       "Australia    50913.744323  \n",
       "Switzerland  69076.742105  \n",
       "Denmark      51726.638178  \n",
       "Netherlands  61641.441877  "
      ]
     },
     "execution_count": 94,
     "metadata": {},
     "output_type": "execute_result"
    }
   ],
   "source": [
    "gdi.head()"
   ]
  },
  {
   "cell_type": "code",
   "execution_count": 95,
   "metadata": {
    "collapsed": false
   },
   "outputs": [],
   "source": [
    "iso_a3_df = pd.DataFrame(gdi.CODE, index=gdi.index)\n",
    "iso_a3_df.columns = [\"iso_a3\"]"
   ]
  },
  {
   "cell_type": "code",
   "execution_count": 96,
   "metadata": {
    "collapsed": true
   },
   "outputs": [],
   "source": [
    "iso_a3_df.to_csv(\"files/iso_a3_country_codes.csv\")"
   ]
  },
  {
   "cell_type": "code",
   "execution_count": 97,
   "metadata": {
    "collapsed": false
   },
   "outputs": [
    {
     "name": "stdout",
     "output_type": "stream",
     "text": [
      "Country,iso_a3\r\n",
      "Norway,NOR\r\n",
      "Australia,AUS\r\n",
      "Switzerland,CHE\r\n",
      "Denmark,DNK\r\n",
      "Netherlands,NLD\r\n",
      "Germany,DEU\r\n",
      "Ireland,IRL\r\n",
      "United States,USA\r\n",
      "Canada,CAN\r\n"
     ]
    }
   ],
   "source": [
    "!head \"files/iso_a3_country_codes.csv\""
   ]
  },
  {
   "cell_type": "code",
   "execution_count": 98,
   "metadata": {
    "collapsed": false
   },
   "outputs": [],
   "source": [
    "hdi_df[\"iso_a3\"] = iso_a3_df.iso_a3"
   ]
  },
  {
   "cell_type": "code",
   "execution_count": 99,
   "metadata": {
    "collapsed": false
   },
   "outputs": [
    {
     "data": {
      "text/html": [
       "<div>\n",
       "<table border=\"1\" class=\"dataframe\">\n",
       "  <thead>\n",
       "    <tr style=\"text-align: right;\">\n",
       "      <th></th>\n",
       "      <th>hdi_rank</th>\n",
       "      <th>hdi</th>\n",
       "      <th>life_expectancy_at_birth</th>\n",
       "      <th>expected_years_of_schooling</th>\n",
       "      <th>mean_years_of_schooling</th>\n",
       "      <th>gni</th>\n",
       "      <th>gni_rank_minus_hdi_rank</th>\n",
       "      <th>mark</th>\n",
       "      <th>iso_a3</th>\n",
       "    </tr>\n",
       "    <tr>\n",
       "      <th>country</th>\n",
       "      <th></th>\n",
       "      <th></th>\n",
       "      <th></th>\n",
       "      <th></th>\n",
       "      <th></th>\n",
       "      <th></th>\n",
       "      <th></th>\n",
       "      <th></th>\n",
       "      <th></th>\n",
       "    </tr>\n",
       "  </thead>\n",
       "  <tbody>\n",
       "    <tr>\n",
       "      <th>Norway</th>\n",
       "      <td>1</td>\n",
       "      <td>0.944</td>\n",
       "      <td>81.6</td>\n",
       "      <td>17.5</td>\n",
       "      <td>12.6</td>\n",
       "      <td>64992</td>\n",
       "      <td>5</td>\n",
       "      <td>VH</td>\n",
       "      <td>NOR</td>\n",
       "    </tr>\n",
       "    <tr>\n",
       "      <th>Australia</th>\n",
       "      <td>2</td>\n",
       "      <td>0.935</td>\n",
       "      <td>82.4</td>\n",
       "      <td>20.2</td>\n",
       "      <td>13.0</td>\n",
       "      <td>42261</td>\n",
       "      <td>17</td>\n",
       "      <td>VH</td>\n",
       "      <td>AUS</td>\n",
       "    </tr>\n",
       "  </tbody>\n",
       "</table>\n",
       "</div>"
      ],
      "text/plain": [
       "           hdi_rank    hdi  life_expectancy_at_birth  \\\n",
       "country                                                \n",
       "Norway            1  0.944                      81.6   \n",
       "Australia         2  0.935                      82.4   \n",
       "\n",
       "           expected_years_of_schooling  mean_years_of_schooling    gni  \\\n",
       "country                                                                  \n",
       "Norway                            17.5                     12.6  64992   \n",
       "Australia                         20.2                     13.0  42261   \n",
       "\n",
       "           gni_rank_minus_hdi_rank mark iso_a3  \n",
       "country                                         \n",
       "Norway                           5   VH    NOR  \n",
       "Australia                       17   VH    AUS  "
      ]
     },
     "execution_count": 99,
     "metadata": {},
     "output_type": "execute_result"
    }
   ],
   "source": [
    "hdi_df[:2]"
   ]
  },
  {
   "cell_type": "code",
   "execution_count": 100,
   "metadata": {
    "collapsed": true
   },
   "outputs": [],
   "source": [
    "hdi_df.to_csv(\"files/hdi_with_components.csv\")"
   ]
  },
  {
   "cell_type": "code",
   "execution_count": 101,
   "metadata": {
    "collapsed": false
   },
   "outputs": [
    {
     "name": "stdout",
     "output_type": "stream",
     "text": [
      "country,hdi_rank,hdi,life_expectancy_at_birth,expected_years_of_schooling,mean_years_of_schooling,gni,gni_rank_minus_hdi_rank,mark,iso_a3\r\n",
      "Norway,1,0.944,81.6,17.5,12.6,64992,5,VH,NOR\r\n",
      "Australia,2,0.935,82.4,20.2,13.0,42261,17,VH,AUS\r\n",
      "Switzerland,3,0.93,83.0,15.8,12.8,56431,6,VH,CHE\r\n",
      "Denmark,4,0.923,80.2,18.7,12.7,44025,11,VH,DNK\r\n",
      "Netherlands,5,0.922,81.6,17.9,11.9,45435,9,VH,NLD\r\n",
      "Germany,6,0.916,80.9,16.5,13.1,43919,11,VH,DEU\r\n",
      "Ireland,6,0.916,80.9,18.6,12.2,39568,16,VH,IRL\r\n",
      "United States,8,0.915,79.1,16.5,12.9,52947,3,VH,USA\r\n",
      "Canada,9,0.913,82.0,15.9,13.0,42155,11,VH,CAN\r\n"
     ]
    }
   ],
   "source": [
    "!head \"files/hdi_with_components.csv\""
   ]
  },
  {
   "cell_type": "code",
   "execution_count": null,
   "metadata": {
    "collapsed": true
   },
   "outputs": [],
   "source": []
  }
 ],
 "metadata": {
  "kernelspec": {
   "display_name": "Python 2",
   "language": "python",
   "name": "python2"
  },
  "language_info": {
   "codemirror_mode": {
    "name": "ipython",
    "version": 2
   },
   "file_extension": ".py",
   "mimetype": "text/x-python",
   "name": "python",
   "nbconvert_exporter": "python",
   "pygments_lexer": "ipython2",
   "version": "2.7.10"
  }
 },
 "nbformat": 4,
 "nbformat_minor": 0
}
